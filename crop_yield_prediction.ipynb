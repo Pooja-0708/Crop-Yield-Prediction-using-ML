{
  "nbformat": 4,
  "nbformat_minor": 0,
  "metadata": {
    "colab": {
      "provenance": [],
      "authorship_tag": "ABX9TyNop7VRAD8C+YmMyB61tN7w",
      "include_colab_link": true
    },
    "kernelspec": {
      "name": "python3",
      "display_name": "Python 3"
    },
    "language_info": {
      "name": "python"
    }
  },
  "cells": [
    {
      "cell_type": "markdown",
      "metadata": {
        "id": "view-in-github",
        "colab_type": "text"
      },
      "source": [
        "<a href=\"https://colab.research.google.com/github/Pooja-0708/Crop-Yield-Prediction-using-ML/blob/main/crop_yield_prediction.ipynb\" target=\"_parent\"><img src=\"https://colab.research.google.com/assets/colab-badge.svg\" alt=\"Open In Colab\"/></a>"
      ]
    },
    {
      "cell_type": "code",
      "source": [
        "import numpy as np\n",
        "import pandas as pd\n",
        "import os\n",
        "import csv\n",
        "import seaborn as sns\n",
        "import matplotlib.pyplot as plt\n",
        "import plotly.graph_objects as go\n",
        "from plotly.subplots import make_subplots\n",
        "import plotly.offline as py\n",
        "from sklearn.preprocessing import LabelEncoder, StandardScaler\n",
        "import matplotlib.pyplot as plt\n",
        "import matplotlib as mpl\n",
        "from matplotlib import cm\n",
        "import os\n",
        "%matplotlib inline\n",
        "import plotly.express as px\n",
        "yield_df = pd.read_csv('/content/yield_df.csv')\n",
        "yield_df\n",
        "yield_df.groupby(['Item','Year'], sort = True)['hg/ha_yield'].sum().nlargest(1)\n",
        "yield_df.head()\n",
        "#highest yield\n",
        "yield_df.groupby(['Area'], sort = True)[['hg/ha_yield']].sum().nlargest(10, 'hg/ha_yield')\n",
        "yield_df.groupby(['Area','Item'], sort = True)[['hg/ha_yield']].sum().nlargest(10, 'hg/ha_yield')\n",
        "yield_df = yield_df.rename({'hg/ha_yield': 'Yield'}, axis='columns') #renaming column\n",
        "yield_df = yield_df.rename({'Unnamed: 0': 'ID'}, axis='columns')\n",
        "yield_df = yield_df.rename({'pesticides_tonnes': 'Pesticide_Tons'}, axis='columns')\n",
        "yield_df = yield_df.rename({'average_rain_fall_mm_per_year': 'Avg_rainfall_mm_per_year'}, axis='columns')\n",
        "yield_df = yield_df.rename({'avg_temp': 'Avg_temp'}, axis='columns')\n",
        "yield_df = yield_df.rename({'Area': 'Location'}, axis='columns')\n",
        "yieldline = px.line(\n",
        "    yield_df.groupby(['Year'])[['Yield','Pesticide_Tons']].mean(),\n",
        "    labels={'value': 'Yield and Pesticide_Tons'},\n",
        "    template='plotly_dark'\n",
        ")\n",
        "yieldline.update_layout(\n",
        "    showlegend=True,\n",
        "    font={'size': 16},\n",
        "    title={'text': '<b>Year vs. Yield and Pesticide Use</b>', 'font': {'size': 20}}\n",
        ")\n",
        "averagerainfallline = px.line(yield_df.groupby(['Year'])['Avg_rainfall_mm_per_year'].mean(),\n",
        "               labels = {'value' : 'Avg_rainfall_mm_per_year'}, template = 'simple_white')\n",
        "averagerainfallline.update_layout(\n",
        "    showlegend=False,\n",
        "    font={'size': 16},\n",
        "    title={'text': '<b>Year vs. Average Rainfall</b>', 'font': {'size': 20}}\n",
        ")\n",
        "yield_df.describe().T\n",
        "yield_df['Item'].value_counts()\n",
        "yield_df_backup = yield_df\n",
        "yield_df_backup.head()\n",
        "yield_df_backup_copy = yield_df_backup.drop(columns=['ID'])\n",
        "##dropping missing values\n",
        "yield_df_ml = yield_df_backup_copy.dropna(axis=0)\n",
        "yield_df_ml.head()\n",
        "y = yield_df_ml['Yield']\n",
        "X = yield_df_ml[['Location', 'Item', 'Avg_rainfall_mm_per_year', 'Pesticide_Tons', 'Avg_temp']]\n",
        "numerical = X.drop(['Location','Item'], axis=1)\n",
        "numerical.head()\n",
        "categorical = X.filter(['Location','Item'])\n",
        "categorical.head()\n",
        "cat_numerical = pd.get_dummies(categorical,drop_first=True)\n",
        "cat_numerical.head()\n",
        "X = pd.concat([numerical, cat_numerical], axis = 1)\n",
        "X.head()\n",
        "from sklearn.model_selection import train_test_split\n",
        "X_train, X_test, y_train, y_test = train_test_split(X, y, test_size=0.20, random_state=0)\n",
        "from sklearn.preprocessing import StandardScaler\n",
        "sc = StandardScaler()\n",
        "X_train = sc.fit_transform(X_train)\n",
        "X_test = sc.transform (X_test)\n",
        "from sklearn.linear_model import LinearRegression\n",
        "\n",
        "lin_reg = LinearRegression()\n",
        "regressor = lin_reg.fit(X_train, y_train)\n",
        "y_pred = regressor.predict(X_test)\n",
        "\n",
        "from sklearn import metrics\n",
        "print('Mean Absolute Error:', metrics.mean_absolute_error(y_test, y_pred))\n",
        "print('Mean Squared Error:', metrics.mean_squared_error(y_test, y_pred))\n",
        "print('Root Mean Squared Error:', np.sqrt(metrics.mean_squared_error(y_test, y_pred)))\n",
        "from sklearn.ensemble import RandomForestRegressor\n",
        "\n",
        "rf_reg = RandomForestRegressor(random_state=42, n_estimators=500)\n",
        "regressor = rf_reg.fit(X_train, y_train)\n",
        "\n",
        "y_pred = regressor.predict(X_test)\n",
        "\n",
        "from sklearn import metrics\n",
        "\n",
        "print('Mean Absolute Error:', metrics.mean_absolute_error(y_test, y_pred))\n",
        "print('Mean Squared Error:', metrics.mean_squared_error(y_test, y_pred))\n",
        "print('Root Mean Squared Error:', np.sqrt(metrics.mean_squared_error(y_test, y_pred)))\n",
        "from sklearn.linear_model import LinearRegression\n",
        "\n",
        "rf_reg = RandomForestRegressor(random_state=42, n_estimators=500)\n",
        "regressor = rf_reg.fit(X_train, y_train)\n",
        "\n",
        "single_record = sc.transform (X.values[19].reshape(1, -1))\n",
        "predicted_mpg = regressor.predict(single_record)\n",
        "print(predicted_mpg)\n",
        "yield_df_ml.describe().T\n",
        "from sklearn.ensemble import RandomForestRegressor\n",
        "rf_reg = RandomForestRegressor(random_state=42, n_estimators=500)\n",
        "regressor = rf_reg.fit(X_train, y_train)\n",
        "\n",
        "predictions = regressor.predict(X_test)\n",
        "\n",
        "print(\"The yield predictions for 10 rows are\")\n",
        "print(predictions[:10].round(2))\n",
        "print(\"Comparing the average of the predictions to average of the original (77053.33) helps confirm the predictions\")\n",
        "print(np.mean(predictions))\n",
        "print(\"Here we can see the accuracy of the model, it  is almost 100%\")\n",
        "regressor.score(X_train, y_train)\n",
        "import numpy as np\n",
        "# Function to calculate Mean Squared Error (MSE)\n",
        "def mean_squared_error(y_true, y_pred):\n",
        "    return np.mean((y_true - y_pred) ** 2)\n",
        "\n",
        "def predict_yield(item, year, avg_rainfall, pesticide_tons, avg_temp):\n",
        "\n",
        "    predicted_yield = 2.5 * year + 1.5 * avg_rainfall - 0.5 * pesticide_tons + 10 * avg_temp\n",
        "\n",
        "    return predicted_yield\n",
        "\n",
        "# Get input from the user\n",
        "item = input(\"Item: \")\n",
        "year = int(input(\"Year: \"))\n",
        "avg_rainfall = float(input(\"Avg_rainfall_mm_per_year: \"))\n",
        "pesticide_tons = float(input(\"Pesticide_Tons: \"))\n",
        "avg_temp = float(input(\"Avg_temp: \"))\n",
        "\n",
        "# Make prediction\n",
        "predicted_yield = predict_yield(item, year, avg_rainfall, pesticide_tons, avg_temp)\n",
        "\n",
        "# Print the predicted yield\n",
        "print(\"Predicted yield:\", predicted_yield)\n",
        "actual_yield = 50  # Actual yield\n",
        "mse = mean_squared_error(actual_yield, predicted_yield)\n",
        "print(\"Mean Squared Error:\", mse)\n"
      ],
      "metadata": {
        "colab": {
          "base_uri": "https://localhost:8080/"
        },
        "id": "WQMrrG0sDR6l",
        "outputId": "a3a36952-96d8-45f8-ff66-e056cf012d57"
      },
      "execution_count": null,
      "outputs": [
        {
          "output_type": "stream",
          "name": "stdout",
          "text": [
            "Mean Absolute Error: 29642.090402772646\n",
            "Mean Squared Error: 1857377727.868841\n",
            "Root Mean Squared Error: 43097.305343476415\n",
            "Mean Absolute Error: 5561.1498792665925\n",
            "Mean Squared Error: 172558049.04260904\n",
            "Root Mean Squared Error: 13136.135239963429\n"
          ]
        },
        {
          "output_type": "stream",
          "name": "stderr",
          "text": [
            "/usr/local/lib/python3.10/dist-packages/sklearn/base.py:439: UserWarning:\n",
            "\n",
            "X does not have valid feature names, but StandardScaler was fitted with feature names\n",
            "\n"
          ]
        },
        {
          "output_type": "stream",
          "name": "stdout",
          "text": [
            "[94841.602]\n",
            "The yield predictions for 10 rows are\n",
            "[ 24704.61  99535.77  37179.85  30473.96  15449.39 169671.11  13259.47\n",
            "  42298.96 182656.22 106147.47]\n",
            "Comparing the average of the predictions to average of the original (77053.33) helps confirm the predictions\n",
            "78063.71769027066\n",
            "Here we can see the accuracy of the model, it  is almost 100%\n",
            "Item: maize\n",
            "Year: 2025\n",
            "Avg_rainfall_mm_per_year: 4523\n",
            "Pesticide_Tons: 234\n",
            "Avg_temp: 20.3\n",
            "Predicted yield: 11933.0\n",
            "Mean Squared Error: 141205689.0\n"
          ]
        }
      ]
    },
    {
      "cell_type": "code",
      "source": [
        "import pickle\n",
        "with open('dkl.pkl', 'wb') as file:\n",
        "    pickle.dump(mse, file)"
      ],
      "metadata": {
        "id": "z946VAYAfmDo"
      },
      "execution_count": null,
      "outputs": []
    }
  ]
}